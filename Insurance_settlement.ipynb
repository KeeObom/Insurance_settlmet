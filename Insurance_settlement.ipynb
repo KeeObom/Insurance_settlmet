{
 "cells": [
  {
   "cell_type": "markdown",
   "id": "d3ee7dbc",
   "metadata": {},
   "source": [
    "## INSURANCE COMPANIES SETTLEMENT ANALYSIS BY MELU-AKEKUE BARINATAMKEE"
   ]
  },
  {
   "cell_type": "markdown",
   "id": "d0289628",
   "metadata": {},
   "source": [
    "### OBJECTIVE\n",
    "* Perform Data Cleaning\n",
    "* Perform Feature Engineering \n",
    "* Get the best ML Classifier for the sample"
   ]
  },
  {
   "cell_type": "code",
   "execution_count": 1,
   "id": "a8085c79",
   "metadata": {},
   "outputs": [],
   "source": [
    "import pandas as pd\n",
    "import numpy as np\n",
    "import matplotlib.pyplot as plt\n",
    "import seaborn as sns"
   ]
  },
  {
   "cell_type": "code",
   "execution_count": 2,
   "id": "8d3d14f0",
   "metadata": {},
   "outputs": [],
   "source": [
    "%matplotlib inline"
   ]
  },
  {
   "cell_type": "code",
   "execution_count": 3,
   "id": "41e65240",
   "metadata": {},
   "outputs": [
    {
     "data": {
      "text/html": [
       "<div>\n",
       "<style scoped>\n",
       "    .dataframe tbody tr th:only-of-type {\n",
       "        vertical-align: middle;\n",
       "    }\n",
       "\n",
       "    .dataframe tbody tr th {\n",
       "        vertical-align: top;\n",
       "    }\n",
       "\n",
       "    .dataframe thead th {\n",
       "        text-align: right;\n",
       "    }\n",
       "</style>\n",
       "<table border=\"1\" class=\"dataframe\">\n",
       "  <thead>\n",
       "    <tr style=\"text-align: right;\">\n",
       "      <th></th>\n",
       "      <th>Claim No</th>\n",
       "      <th>Occurrence No</th>\n",
       "      <th>Claim Financial Year</th>\n",
       "      <th>Agency NN</th>\n",
       "      <th>Incident Date</th>\n",
       "      <th>Finalised Date</th>\n",
       "      <th>Total Paid</th>\n",
       "      <th>Paid Days Lost</th>\n",
       "      <th>Service Start Date</th>\n",
       "      <th>Service End Date</th>\n",
       "      <th>...</th>\n",
       "      <th>Mechanism</th>\n",
       "      <th>Nature</th>\n",
       "      <th>Major</th>\n",
       "      <th>Occupation</th>\n",
       "      <th>Gender</th>\n",
       "      <th>Date of Birth</th>\n",
       "      <th>Days to RTW</th>\n",
       "      <th>RTW Category</th>\n",
       "      <th>Age at Accident Date</th>\n",
       "      <th>Settled</th>\n",
       "    </tr>\n",
       "  </thead>\n",
       "  <tbody>\n",
       "    <tr>\n",
       "      <th>0</th>\n",
       "      <td>13/005096</td>\n",
       "      <td>1</td>\n",
       "      <td>2013</td>\n",
       "      <td>7069</td>\n",
       "      <td>01-11-12</td>\n",
       "      <td>24-01-13</td>\n",
       "      <td>$8,580.00</td>\n",
       "      <td>26.01</td>\n",
       "      <td>02-11-12</td>\n",
       "      <td>18-12-12</td>\n",
       "      <td>...</td>\n",
       "      <td>Muscular stress-lift, carry, put down objects</td>\n",
       "      <td>Sprains and strains of joints and muscles</td>\n",
       "      <td>Intermediate Clerical, Sales and Service Workers</td>\n",
       "      <td>Personal Care Assistant</td>\n",
       "      <td>Male</td>\n",
       "      <td>05-11-56</td>\n",
       "      <td>46</td>\n",
       "      <td>RTW 13 Weeks</td>\n",
       "      <td>55</td>\n",
       "      <td>N</td>\n",
       "    </tr>\n",
       "    <tr>\n",
       "      <th>1</th>\n",
       "      <td>21/013033</td>\n",
       "      <td>1</td>\n",
       "      <td>2021</td>\n",
       "      <td>63246</td>\n",
       "      <td>29-04-21</td>\n",
       "      <td>10-06-21</td>\n",
       "      <td>$573.66</td>\n",
       "      <td>2</td>\n",
       "      <td>29-04-21</td>\n",
       "      <td>30-04-21</td>\n",
       "      <td>...</td>\n",
       "      <td>Falls on the same level</td>\n",
       "      <td>Open wound not including traumatic amputation</td>\n",
       "      <td>Intermediate Clerical, Sales and Service Workers</td>\n",
       "      <td>Teachers Aide (Education Assistant)</td>\n",
       "      <td>Female</td>\n",
       "      <td>18-08-71</td>\n",
       "      <td>1</td>\n",
       "      <td>RTW 13 Weeks</td>\n",
       "      <td>49</td>\n",
       "      <td>N</td>\n",
       "    </tr>\n",
       "    <tr>\n",
       "      <th>2</th>\n",
       "      <td>16/005676</td>\n",
       "      <td>1</td>\n",
       "      <td>2016</td>\n",
       "      <td>2043954</td>\n",
       "      <td>16-11-15</td>\n",
       "      <td>04-01-16</td>\n",
       "      <td>$796.97</td>\n",
       "      <td>2.02</td>\n",
       "      <td>16-11-15</td>\n",
       "      <td>17-11-15</td>\n",
       "      <td>...</td>\n",
       "      <td>Being assaulted by a person or persons</td>\n",
       "      <td>Open wound not including traumatic amputation</td>\n",
       "      <td>Associate Professionals</td>\n",
       "      <td>Residential Care Officer</td>\n",
       "      <td>Male</td>\n",
       "      <td>07-07-67</td>\n",
       "      <td>1</td>\n",
       "      <td>RTW 13 Weeks</td>\n",
       "      <td>48</td>\n",
       "      <td>N</td>\n",
       "    </tr>\n",
       "    <tr>\n",
       "      <th>3</th>\n",
       "      <td>15/002879</td>\n",
       "      <td>1</td>\n",
       "      <td>2015</td>\n",
       "      <td>63246</td>\n",
       "      <td>04-09-14</td>\n",
       "      <td>18-02-15</td>\n",
       "      <td>$5,570.19</td>\n",
       "      <td>26</td>\n",
       "      <td>05-09-14</td>\n",
       "      <td>10-10-14</td>\n",
       "      <td>...</td>\n",
       "      <td>Muscular stress with no objects handled</td>\n",
       "      <td>Sprains and strains of joints and muscles</td>\n",
       "      <td>Intermediate Clerical, Sales and Service Workers</td>\n",
       "      <td>Teachers Aide (Education Assistant)</td>\n",
       "      <td>Male</td>\n",
       "      <td>29-07-73</td>\n",
       "      <td>35</td>\n",
       "      <td>RTW 13 Weeks</td>\n",
       "      <td>41</td>\n",
       "      <td>N</td>\n",
       "    </tr>\n",
       "    <tr>\n",
       "      <th>4</th>\n",
       "      <td>14/020489</td>\n",
       "      <td>2</td>\n",
       "      <td>2014</td>\n",
       "      <td>63246</td>\n",
       "      <td>08-05-14</td>\n",
       "      <td>29-01-16</td>\n",
       "      <td>$35,406.63</td>\n",
       "      <td>75.09</td>\n",
       "      <td>03-10-14</td>\n",
       "      <td>12-01-15</td>\n",
       "      <td>...</td>\n",
       "      <td>Falls on the same level</td>\n",
       "      <td>Sprains and strains of joints and muscles</td>\n",
       "      <td>Tradespersons and Related Workers</td>\n",
       "      <td>General Gardener</td>\n",
       "      <td>Male</td>\n",
       "      <td>06-02-51</td>\n",
       "      <td>101</td>\n",
       "      <td>RTW 26 Weeks</td>\n",
       "      <td>63</td>\n",
       "      <td>N</td>\n",
       "    </tr>\n",
       "  </tbody>\n",
       "</table>\n",
       "<p>5 rows × 25 columns</p>\n",
       "</div>"
      ],
      "text/plain": [
       "    Claim No  Occurrence No  Claim Financial Year  Agency NN Incident Date  \\\n",
       "0  13/005096              1                  2013       7069      01-11-12   \n",
       "1  21/013033              1                  2021      63246      29-04-21   \n",
       "2  16/005676              1                  2016    2043954      16-11-15   \n",
       "3  15/002879              1                  2015      63246      04-09-14   \n",
       "4  14/020489              2                  2014      63246      08-05-14   \n",
       "\n",
       "  Finalised Date   Total Paid Paid Days Lost Service Start Date  \\\n",
       "0       24-01-13   $8,580.00           26.01           02-11-12   \n",
       "1       10-06-21     $573.66               2           29-04-21   \n",
       "2       04-01-16     $796.97            2.02           16-11-15   \n",
       "3       18-02-15   $5,570.19              26           05-09-14   \n",
       "4       29-01-16  $35,406.63           75.09           03-10-14   \n",
       "\n",
       "  Service End Date  ...                                      Mechanism  \\\n",
       "0         18-12-12  ...  Muscular stress-lift, carry, put down objects   \n",
       "1         30-04-21  ...                        Falls on the same level   \n",
       "2         17-11-15  ...         Being assaulted by a person or persons   \n",
       "3         10-10-14  ...        Muscular stress with no objects handled   \n",
       "4         12-01-15  ...                        Falls on the same level   \n",
       "\n",
       "                                          Nature  \\\n",
       "0      Sprains and strains of joints and muscles   \n",
       "1  Open wound not including traumatic amputation   \n",
       "2  Open wound not including traumatic amputation   \n",
       "3      Sprains and strains of joints and muscles   \n",
       "4      Sprains and strains of joints and muscles   \n",
       "\n",
       "                                              Major  \\\n",
       "0  Intermediate Clerical, Sales and Service Workers   \n",
       "1  Intermediate Clerical, Sales and Service Workers   \n",
       "2                           Associate Professionals   \n",
       "3  Intermediate Clerical, Sales and Service Workers   \n",
       "4                 Tradespersons and Related Workers   \n",
       "\n",
       "                            Occupation    Gender Date of Birth Days to RTW  \\\n",
       "0              Personal Care Assistant  Male          05-11-56          46   \n",
       "1  Teachers Aide (Education Assistant)  Female        18-08-71           1   \n",
       "2             Residential Care Officer  Male          07-07-67           1   \n",
       "3  Teachers Aide (Education Assistant)  Male          29-07-73          35   \n",
       "4                     General Gardener  Male          06-02-51         101   \n",
       "\n",
       "   RTW Category Age at Accident Date Settled  \n",
       "0  RTW 13 Weeks                   55       N  \n",
       "1  RTW 13 Weeks                   49       N  \n",
       "2  RTW 13 Weeks                   48       N  \n",
       "3  RTW 13 Weeks                   41       N  \n",
       "4  RTW 26 Weeks                   63       N  \n",
       "\n",
       "[5 rows x 25 columns]"
      ]
     },
     "execution_count": 3,
     "metadata": {},
     "output_type": "execute_result"
    }
   ],
   "source": [
    "df = pd.read_csv('sample.csv')\n",
    "df.head()"
   ]
  },
  {
   "cell_type": "code",
   "execution_count": 4,
   "id": "fa00a22a",
   "metadata": {},
   "outputs": [
    {
     "data": {
      "text/plain": [
       "['0:Claim No',\n",
       " '1:Occurrence No',\n",
       " '2:Claim Financial Year',\n",
       " '3:Agency NN',\n",
       " '4:Incident Date',\n",
       " '5:Finalised Date',\n",
       " '6:Total Paid',\n",
       " '7:Paid Days Lost',\n",
       " '8:Service Start Date',\n",
       " '9:Service End Date',\n",
       " '10:Injury Agency Group',\n",
       " '11:Bodily Location Group',\n",
       " '12:Mechanism Group',\n",
       " '13:Nature Group',\n",
       " '14:Bodily Location',\n",
       " '15:Mechanism',\n",
       " '16:Nature',\n",
       " '17:Major',\n",
       " '18:Occupation',\n",
       " '19:Gender',\n",
       " '20:Date of Birth',\n",
       " '21:Days to RTW',\n",
       " '22:RTW Category',\n",
       " '23:Age at Accident Date',\n",
       " '24:Settled']"
      ]
     },
     "execution_count": 4,
     "metadata": {},
     "output_type": "execute_result"
    }
   ],
   "source": [
    "# Let's build a reference list of all columns and their indexes\n",
    "col_mapping = [f\"{c[0]}:{c[1]}\" for c in enumerate(df.columns)]\n",
    "col_mapping"
   ]
  },
  {
   "cell_type": "code",
   "execution_count": 5,
   "id": "f34fbe1d",
   "metadata": {},
   "outputs": [
    {
     "data": {
      "text/plain": [
       "Claim No                 object\n",
       "Occurrence No             int64\n",
       "Claim Financial Year      int64\n",
       "Agency NN                 int64\n",
       "Incident Date            object\n",
       "Finalised Date           object\n",
       "Total Paid               object\n",
       "Paid Days Lost           object\n",
       "Service Start Date       object\n",
       "Service End Date         object\n",
       "Injury Agency Group      object\n",
       "Bodily Location Group    object\n",
       "Mechanism Group          object\n",
       "Nature Group             object\n",
       "Bodily Location          object\n",
       "Mechanism                object\n",
       "Nature                   object\n",
       "Major                    object\n",
       "Occupation               object\n",
       "Gender                   object\n",
       "Date of Birth            object\n",
       "Days to RTW               int64\n",
       "RTW Category             object\n",
       "Age at Accident Date      int64\n",
       "Settled                  object\n",
       "dtype: object"
      ]
     },
     "execution_count": 5,
     "metadata": {},
     "output_type": "execute_result"
    }
   ],
   "source": [
    "df.dtypes"
   ]
  },
  {
   "cell_type": "code",
   "execution_count": 6,
   "id": "2fceecb0",
   "metadata": {},
   "outputs": [
    {
     "data": {
      "text/plain": [
       "Claim No                   0\n",
       "Occurrence No              0\n",
       "Claim Financial Year       0\n",
       "Agency NN                  0\n",
       "Incident Date              0\n",
       "Finalised Date             0\n",
       "Total Paid                 0\n",
       "Paid Days Lost             0\n",
       "Service Start Date       475\n",
       "Service End Date         475\n",
       "Injury Agency Group        0\n",
       "Bodily Location Group      0\n",
       "Mechanism Group            0\n",
       "Nature Group               0\n",
       "Bodily Location            0\n",
       "Mechanism                  0\n",
       "Nature                     0\n",
       "Major                      0\n",
       "Occupation                 0\n",
       "Gender                     0\n",
       "Date of Birth              1\n",
       "Days to RTW                0\n",
       "RTW Category               0\n",
       "Age at Accident Date       0\n",
       "Settled                    0\n",
       "dtype: int64"
      ]
     },
     "execution_count": 6,
     "metadata": {},
     "output_type": "execute_result"
    }
   ],
   "source": [
    "df.isna().sum()"
   ]
  },
  {
   "cell_type": "code",
   "execution_count": 7,
   "id": "68d3cb8e",
   "metadata": {},
   "outputs": [
    {
     "data": {
      "text/html": [
       "<div>\n",
       "<style scoped>\n",
       "    .dataframe tbody tr th:only-of-type {\n",
       "        vertical-align: middle;\n",
       "    }\n",
       "\n",
       "    .dataframe tbody tr th {\n",
       "        vertical-align: top;\n",
       "    }\n",
       "\n",
       "    .dataframe thead th {\n",
       "        text-align: right;\n",
       "    }\n",
       "</style>\n",
       "<table border=\"1\" class=\"dataframe\">\n",
       "  <thead>\n",
       "    <tr style=\"text-align: right;\">\n",
       "      <th></th>\n",
       "      <th>Claim No</th>\n",
       "      <th>Occurrence No</th>\n",
       "      <th>Claim Financial Year</th>\n",
       "      <th>Agency NN</th>\n",
       "      <th>Incident Date</th>\n",
       "      <th>Finalised Date</th>\n",
       "      <th>Total Paid</th>\n",
       "      <th>Paid Days Lost</th>\n",
       "      <th>Service Start Date</th>\n",
       "      <th>Service End Date</th>\n",
       "      <th>...</th>\n",
       "      <th>Mechanism</th>\n",
       "      <th>Nature</th>\n",
       "      <th>Major</th>\n",
       "      <th>Occupation</th>\n",
       "      <th>Gender</th>\n",
       "      <th>Date of Birth</th>\n",
       "      <th>Days to RTW</th>\n",
       "      <th>RTW Category</th>\n",
       "      <th>Age at Accident Date</th>\n",
       "      <th>Settled</th>\n",
       "    </tr>\n",
       "  </thead>\n",
       "  <tbody>\n",
       "    <tr>\n",
       "      <th>12155</th>\n",
       "      <td>14/013142</td>\n",
       "      <td>1</td>\n",
       "      <td>2014</td>\n",
       "      <td>1801385</td>\n",
       "      <td>17-02-14</td>\n",
       "      <td>16-06-14</td>\n",
       "      <td>$5,049.83</td>\n",
       "      <td>18.66</td>\n",
       "      <td>NaN</td>\n",
       "      <td>NaN</td>\n",
       "      <td>...</td>\n",
       "      <td>Muscular stress while handling object</td>\n",
       "      <td>Superficial injury</td>\n",
       "      <td>Professionals</td>\n",
       "      <td>Registered Nurse</td>\n",
       "      <td>Female</td>\n",
       "      <td>NaN</td>\n",
       "      <td>0</td>\n",
       "      <td>RTW 13 Weeks</td>\n",
       "      <td>114</td>\n",
       "      <td>N</td>\n",
       "    </tr>\n",
       "  </tbody>\n",
       "</table>\n",
       "<p>1 rows × 25 columns</p>\n",
       "</div>"
      ],
      "text/plain": [
       "        Claim No  Occurrence No  Claim Financial Year  Agency NN  \\\n",
       "12155  14/013142              1                  2014    1801385   \n",
       "\n",
       "      Incident Date Finalised Date  Total Paid Paid Days Lost  \\\n",
       "12155      17-02-14       16-06-14  $5,049.83           18.66   \n",
       "\n",
       "      Service Start Date Service End Date  ...  \\\n",
       "12155                NaN              NaN  ...   \n",
       "\n",
       "                                   Mechanism              Nature  \\\n",
       "12155  Muscular stress while handling object  Superficial injury   \n",
       "\n",
       "               Major        Occupation    Gender Date of Birth Days to RTW  \\\n",
       "12155  Professionals  Registered Nurse  Female             NaN           0   \n",
       "\n",
       "       RTW Category Age at Accident Date Settled  \n",
       "12155  RTW 13 Weeks                  114       N  \n",
       "\n",
       "[1 rows x 25 columns]"
      ]
     },
     "execution_count": 7,
     "metadata": {},
     "output_type": "execute_result"
    }
   ],
   "source": [
    "df[df['Date of Birth'].isna()]"
   ]
  },
  {
   "cell_type": "code",
   "execution_count": 8,
   "id": "5b7273e8",
   "metadata": {},
   "outputs": [
    {
     "data": {
      "text/html": [
       "<div>\n",
       "<style scoped>\n",
       "    .dataframe tbody tr th:only-of-type {\n",
       "        vertical-align: middle;\n",
       "    }\n",
       "\n",
       "    .dataframe tbody tr th {\n",
       "        vertical-align: top;\n",
       "    }\n",
       "\n",
       "    .dataframe thead th {\n",
       "        text-align: right;\n",
       "    }\n",
       "</style>\n",
       "<table border=\"1\" class=\"dataframe\">\n",
       "  <thead>\n",
       "    <tr style=\"text-align: right;\">\n",
       "      <th></th>\n",
       "      <th>Claim No</th>\n",
       "      <th>Occurrence No</th>\n",
       "      <th>Claim Financial Year</th>\n",
       "      <th>Agency NN</th>\n",
       "      <th>Incident Date</th>\n",
       "      <th>Finalised Date</th>\n",
       "      <th>Total Paid</th>\n",
       "      <th>Paid Days Lost</th>\n",
       "      <th>Service Start Date</th>\n",
       "      <th>Service End Date</th>\n",
       "      <th>...</th>\n",
       "      <th>Major</th>\n",
       "      <th>Occupation</th>\n",
       "      <th>Gender</th>\n",
       "      <th>Date of Birth</th>\n",
       "      <th>Days to RTW</th>\n",
       "      <th>RTW Category</th>\n",
       "      <th>Age at Accident Date</th>\n",
       "      <th>Settled</th>\n",
       "      <th>Duration of Service</th>\n",
       "      <th>Duration of Incident</th>\n",
       "    </tr>\n",
       "  </thead>\n",
       "  <tbody>\n",
       "    <tr>\n",
       "      <th>0</th>\n",
       "      <td>13/005096</td>\n",
       "      <td>1</td>\n",
       "      <td>2013</td>\n",
       "      <td>7069</td>\n",
       "      <td>01-11-12</td>\n",
       "      <td>24-01-13</td>\n",
       "      <td>$8,580.00</td>\n",
       "      <td>26.01</td>\n",
       "      <td>02-11-12</td>\n",
       "      <td>18-12-12</td>\n",
       "      <td>...</td>\n",
       "      <td>Intermediate Clerical, Sales and Service Workers</td>\n",
       "      <td>Personal Care Assistant</td>\n",
       "      <td>Male</td>\n",
       "      <td>05-11-56</td>\n",
       "      <td>46</td>\n",
       "      <td>RTW 13 Weeks</td>\n",
       "      <td>55</td>\n",
       "      <td>N</td>\n",
       "      <td>46 days</td>\n",
       "      <td>84 days</td>\n",
       "    </tr>\n",
       "    <tr>\n",
       "      <th>1</th>\n",
       "      <td>21/013033</td>\n",
       "      <td>1</td>\n",
       "      <td>2021</td>\n",
       "      <td>63246</td>\n",
       "      <td>29-04-21</td>\n",
       "      <td>10-06-21</td>\n",
       "      <td>$573.66</td>\n",
       "      <td>2</td>\n",
       "      <td>29-04-21</td>\n",
       "      <td>30-04-21</td>\n",
       "      <td>...</td>\n",
       "      <td>Intermediate Clerical, Sales and Service Workers</td>\n",
       "      <td>Teachers Aide (Education Assistant)</td>\n",
       "      <td>Female</td>\n",
       "      <td>18-08-71</td>\n",
       "      <td>1</td>\n",
       "      <td>RTW 13 Weeks</td>\n",
       "      <td>49</td>\n",
       "      <td>N</td>\n",
       "      <td>1 days</td>\n",
       "      <td>42 days</td>\n",
       "    </tr>\n",
       "    <tr>\n",
       "      <th>2</th>\n",
       "      <td>16/005676</td>\n",
       "      <td>1</td>\n",
       "      <td>2016</td>\n",
       "      <td>2043954</td>\n",
       "      <td>16-11-15</td>\n",
       "      <td>04-01-16</td>\n",
       "      <td>$796.97</td>\n",
       "      <td>2.02</td>\n",
       "      <td>16-11-15</td>\n",
       "      <td>17-11-15</td>\n",
       "      <td>...</td>\n",
       "      <td>Associate Professionals</td>\n",
       "      <td>Residential Care Officer</td>\n",
       "      <td>Male</td>\n",
       "      <td>07-07-67</td>\n",
       "      <td>1</td>\n",
       "      <td>RTW 13 Weeks</td>\n",
       "      <td>48</td>\n",
       "      <td>N</td>\n",
       "      <td>1 days</td>\n",
       "      <td>49 days</td>\n",
       "    </tr>\n",
       "    <tr>\n",
       "      <th>3</th>\n",
       "      <td>15/002879</td>\n",
       "      <td>1</td>\n",
       "      <td>2015</td>\n",
       "      <td>63246</td>\n",
       "      <td>04-09-14</td>\n",
       "      <td>18-02-15</td>\n",
       "      <td>$5,570.19</td>\n",
       "      <td>26</td>\n",
       "      <td>05-09-14</td>\n",
       "      <td>10-10-14</td>\n",
       "      <td>...</td>\n",
       "      <td>Intermediate Clerical, Sales and Service Workers</td>\n",
       "      <td>Teachers Aide (Education Assistant)</td>\n",
       "      <td>Male</td>\n",
       "      <td>29-07-73</td>\n",
       "      <td>35</td>\n",
       "      <td>RTW 13 Weeks</td>\n",
       "      <td>41</td>\n",
       "      <td>N</td>\n",
       "      <td>35 days</td>\n",
       "      <td>167 days</td>\n",
       "    </tr>\n",
       "    <tr>\n",
       "      <th>4</th>\n",
       "      <td>14/020489</td>\n",
       "      <td>2</td>\n",
       "      <td>2014</td>\n",
       "      <td>63246</td>\n",
       "      <td>08-05-14</td>\n",
       "      <td>29-01-16</td>\n",
       "      <td>$35,406.63</td>\n",
       "      <td>75.09</td>\n",
       "      <td>03-10-14</td>\n",
       "      <td>12-01-15</td>\n",
       "      <td>...</td>\n",
       "      <td>Tradespersons and Related Workers</td>\n",
       "      <td>General Gardener</td>\n",
       "      <td>Male</td>\n",
       "      <td>06-02-51</td>\n",
       "      <td>101</td>\n",
       "      <td>RTW 26 Weeks</td>\n",
       "      <td>63</td>\n",
       "      <td>N</td>\n",
       "      <td>101 days</td>\n",
       "      <td>631 days</td>\n",
       "    </tr>\n",
       "  </tbody>\n",
       "</table>\n",
       "<p>5 rows × 27 columns</p>\n",
       "</div>"
      ],
      "text/plain": [
       "    Claim No  Occurrence No  Claim Financial Year  Agency NN Incident Date  \\\n",
       "0  13/005096              1                  2013       7069      01-11-12   \n",
       "1  21/013033              1                  2021      63246      29-04-21   \n",
       "2  16/005676              1                  2016    2043954      16-11-15   \n",
       "3  15/002879              1                  2015      63246      04-09-14   \n",
       "4  14/020489              2                  2014      63246      08-05-14   \n",
       "\n",
       "  Finalised Date   Total Paid Paid Days Lost Service Start Date  \\\n",
       "0       24-01-13   $8,580.00           26.01           02-11-12   \n",
       "1       10-06-21     $573.66               2           29-04-21   \n",
       "2       04-01-16     $796.97            2.02           16-11-15   \n",
       "3       18-02-15   $5,570.19              26           05-09-14   \n",
       "4       29-01-16  $35,406.63           75.09           03-10-14   \n",
       "\n",
       "  Service End Date  ...                                             Major  \\\n",
       "0         18-12-12  ...  Intermediate Clerical, Sales and Service Workers   \n",
       "1         30-04-21  ...  Intermediate Clerical, Sales and Service Workers   \n",
       "2         17-11-15  ...                           Associate Professionals   \n",
       "3         10-10-14  ...  Intermediate Clerical, Sales and Service Workers   \n",
       "4         12-01-15  ...                 Tradespersons and Related Workers   \n",
       "\n",
       "                            Occupation    Gender Date of Birth Days to RTW  \\\n",
       "0              Personal Care Assistant  Male          05-11-56          46   \n",
       "1  Teachers Aide (Education Assistant)  Female        18-08-71           1   \n",
       "2             Residential Care Officer  Male          07-07-67           1   \n",
       "3  Teachers Aide (Education Assistant)  Male          29-07-73          35   \n",
       "4                     General Gardener  Male          06-02-51         101   \n",
       "\n",
       "   RTW Category Age at Accident Date Settled Duration of Service  \\\n",
       "0  RTW 13 Weeks                   55       N             46 days   \n",
       "1  RTW 13 Weeks                   49       N              1 days   \n",
       "2  RTW 13 Weeks                   48       N              1 days   \n",
       "3  RTW 13 Weeks                   41       N             35 days   \n",
       "4  RTW 26 Weeks                   63       N            101 days   \n",
       "\n",
       "  Duration of Incident  \n",
       "0              84 days  \n",
       "1              42 days  \n",
       "2              49 days  \n",
       "3             167 days  \n",
       "4             631 days  \n",
       "\n",
       "[5 rows x 27 columns]"
      ]
     },
     "execution_count": 8,
     "metadata": {},
     "output_type": "execute_result"
    }
   ],
   "source": [
    "# Subtract columns to get Duration of Incident and Duration of Service\n",
    "import datetime as dt\n",
    "x = pd.to_datetime(df['Finalised Date'], dayfirst=True) - pd.to_datetime(df['Incident Date'], dayfirst=True)\n",
    "df['Duration of Service'] = pd.to_datetime(df['Service End Date'], dayfirst=True) - pd.to_datetime(df['Service Start Date'], dayfirst=True)\n",
    "df['Duration of Incident'] = pd.to_datetime(df['Finalised Date'], dayfirst=True) - pd.to_datetime(df['Incident Date'], dayfirst=True)\n",
    "df.head()"
   ]
  },
  {
   "cell_type": "code",
   "execution_count": 9,
   "id": "6905158d",
   "metadata": {},
   "outputs": [
    {
     "data": {
      "text/html": [
       "<div>\n",
       "<style scoped>\n",
       "    .dataframe tbody tr th:only-of-type {\n",
       "        vertical-align: middle;\n",
       "    }\n",
       "\n",
       "    .dataframe tbody tr th {\n",
       "        vertical-align: top;\n",
       "    }\n",
       "\n",
       "    .dataframe thead th {\n",
       "        text-align: right;\n",
       "    }\n",
       "</style>\n",
       "<table border=\"1\" class=\"dataframe\">\n",
       "  <thead>\n",
       "    <tr style=\"text-align: right;\">\n",
       "      <th></th>\n",
       "      <th>Occurrence No</th>\n",
       "      <th>Claim Financial Year</th>\n",
       "      <th>Agency NN</th>\n",
       "      <th>Total Paid</th>\n",
       "      <th>Paid Days Lost</th>\n",
       "      <th>Injury Agency Group</th>\n",
       "      <th>Bodily Location Group</th>\n",
       "      <th>Mechanism Group</th>\n",
       "      <th>Nature Group</th>\n",
       "      <th>Bodily Location</th>\n",
       "      <th>...</th>\n",
       "      <th>Major</th>\n",
       "      <th>Occupation</th>\n",
       "      <th>Gender</th>\n",
       "      <th>Date of Birth</th>\n",
       "      <th>Days to RTW</th>\n",
       "      <th>RTW Category</th>\n",
       "      <th>Age at Accident Date</th>\n",
       "      <th>Settled</th>\n",
       "      <th>Duration of Service</th>\n",
       "      <th>Duration of Incident</th>\n",
       "    </tr>\n",
       "  </thead>\n",
       "  <tbody>\n",
       "    <tr>\n",
       "      <th>0</th>\n",
       "      <td>1</td>\n",
       "      <td>2013</td>\n",
       "      <td>7069</td>\n",
       "      <td>$8,580.00</td>\n",
       "      <td>26.01</td>\n",
       "      <td>Mobile Plant and Transport</td>\n",
       "      <td>Trunk (inc. Back)</td>\n",
       "      <td>Body Stressing</td>\n",
       "      <td>Sprains, Strains and Dislocations</td>\n",
       "      <td>Stomach</td>\n",
       "      <td>...</td>\n",
       "      <td>Intermediate Clerical, Sales and Service Workers</td>\n",
       "      <td>Personal Care Assistant</td>\n",
       "      <td>Male</td>\n",
       "      <td>05-11-56</td>\n",
       "      <td>46</td>\n",
       "      <td>RTW 13 Weeks</td>\n",
       "      <td>55</td>\n",
       "      <td>N</td>\n",
       "      <td>46 days</td>\n",
       "      <td>84 days</td>\n",
       "    </tr>\n",
       "    <tr>\n",
       "      <th>1</th>\n",
       "      <td>1</td>\n",
       "      <td>2021</td>\n",
       "      <td>63246</td>\n",
       "      <td>$573.66</td>\n",
       "      <td>2</td>\n",
       "      <td>Non-powered Handtools, Appliances and Equipment</td>\n",
       "      <td>Head</td>\n",
       "      <td>Falls, Slips and Trips of a Person</td>\n",
       "      <td>Open Wound</td>\n",
       "      <td>Head - unspecified locations</td>\n",
       "      <td>...</td>\n",
       "      <td>Intermediate Clerical, Sales and Service Workers</td>\n",
       "      <td>Teachers Aide (Education Assistant)</td>\n",
       "      <td>Female</td>\n",
       "      <td>18-08-71</td>\n",
       "      <td>1</td>\n",
       "      <td>RTW 13 Weeks</td>\n",
       "      <td>49</td>\n",
       "      <td>N</td>\n",
       "      <td>1 days</td>\n",
       "      <td>42 days</td>\n",
       "    </tr>\n",
       "    <tr>\n",
       "      <th>2</th>\n",
       "      <td>1</td>\n",
       "      <td>2016</td>\n",
       "      <td>2043954</td>\n",
       "      <td>$796.97</td>\n",
       "      <td>2.02</td>\n",
       "      <td>Animal, Human and Biological Agencies</td>\n",
       "      <td>Head</td>\n",
       "      <td>Being Hit by Moving Objects</td>\n",
       "      <td>Open Wound</td>\n",
       "      <td>Face</td>\n",
       "      <td>...</td>\n",
       "      <td>Associate Professionals</td>\n",
       "      <td>Residential Care Officer</td>\n",
       "      <td>Male</td>\n",
       "      <td>07-07-67</td>\n",
       "      <td>1</td>\n",
       "      <td>RTW 13 Weeks</td>\n",
       "      <td>48</td>\n",
       "      <td>N</td>\n",
       "      <td>1 days</td>\n",
       "      <td>49 days</td>\n",
       "    </tr>\n",
       "    <tr>\n",
       "      <th>3</th>\n",
       "      <td>1</td>\n",
       "      <td>2015</td>\n",
       "      <td>63246</td>\n",
       "      <td>$5,570.19</td>\n",
       "      <td>26</td>\n",
       "      <td>Animal, Human and Biological Agencies</td>\n",
       "      <td>Lower Limbs</td>\n",
       "      <td>Body Stressing</td>\n",
       "      <td>Sprains, Strains and Dislocations</td>\n",
       "      <td>Knee</td>\n",
       "      <td>...</td>\n",
       "      <td>Intermediate Clerical, Sales and Service Workers</td>\n",
       "      <td>Teachers Aide (Education Assistant)</td>\n",
       "      <td>Male</td>\n",
       "      <td>29-07-73</td>\n",
       "      <td>35</td>\n",
       "      <td>RTW 13 Weeks</td>\n",
       "      <td>41</td>\n",
       "      <td>N</td>\n",
       "      <td>35 days</td>\n",
       "      <td>167 days</td>\n",
       "    </tr>\n",
       "    <tr>\n",
       "      <th>4</th>\n",
       "      <td>2</td>\n",
       "      <td>2014</td>\n",
       "      <td>63246</td>\n",
       "      <td>$35,406.63</td>\n",
       "      <td>75.09</td>\n",
       "      <td>Environmental Agencies</td>\n",
       "      <td>Upper Limbs</td>\n",
       "      <td>Falls, Slips and Trips of a Person</td>\n",
       "      <td>Sprains, Strains and Dislocations</td>\n",
       "      <td>Shoulder</td>\n",
       "      <td>...</td>\n",
       "      <td>Tradespersons and Related Workers</td>\n",
       "      <td>General Gardener</td>\n",
       "      <td>Male</td>\n",
       "      <td>06-02-51</td>\n",
       "      <td>101</td>\n",
       "      <td>RTW 26 Weeks</td>\n",
       "      <td>63</td>\n",
       "      <td>N</td>\n",
       "      <td>101 days</td>\n",
       "      <td>631 days</td>\n",
       "    </tr>\n",
       "  </tbody>\n",
       "</table>\n",
       "<p>5 rows × 22 columns</p>\n",
       "</div>"
      ],
      "text/plain": [
       "   Occurrence No  Claim Financial Year  Agency NN   Total Paid Paid Days Lost  \\\n",
       "0              1                  2013       7069   $8,580.00           26.01   \n",
       "1              1                  2021      63246     $573.66               2   \n",
       "2              1                  2016    2043954     $796.97            2.02   \n",
       "3              1                  2015      63246   $5,570.19              26   \n",
       "4              2                  2014      63246  $35,406.63           75.09   \n",
       "\n",
       "                               Injury Agency Group Bodily Location Group  \\\n",
       "0                       Mobile Plant and Transport     Trunk (inc. Back)   \n",
       "1  Non-powered Handtools, Appliances and Equipment                  Head   \n",
       "2            Animal, Human and Biological Agencies                  Head   \n",
       "3            Animal, Human and Biological Agencies           Lower Limbs   \n",
       "4                           Environmental Agencies           Upper Limbs   \n",
       "\n",
       "                      Mechanism Group                       Nature Group  \\\n",
       "0                      Body Stressing  Sprains, Strains and Dislocations   \n",
       "1  Falls, Slips and Trips of a Person                         Open Wound   \n",
       "2         Being Hit by Moving Objects                         Open Wound   \n",
       "3                      Body Stressing  Sprains, Strains and Dislocations   \n",
       "4  Falls, Slips and Trips of a Person  Sprains, Strains and Dislocations   \n",
       "\n",
       "                Bodily Location  ...  \\\n",
       "0                       Stomach  ...   \n",
       "1  Head - unspecified locations  ...   \n",
       "2                          Face  ...   \n",
       "3                          Knee  ...   \n",
       "4                      Shoulder  ...   \n",
       "\n",
       "                                              Major  \\\n",
       "0  Intermediate Clerical, Sales and Service Workers   \n",
       "1  Intermediate Clerical, Sales and Service Workers   \n",
       "2                           Associate Professionals   \n",
       "3  Intermediate Clerical, Sales and Service Workers   \n",
       "4                 Tradespersons and Related Workers   \n",
       "\n",
       "                            Occupation    Gender Date of Birth Days to RTW  \\\n",
       "0              Personal Care Assistant  Male          05-11-56          46   \n",
       "1  Teachers Aide (Education Assistant)  Female        18-08-71           1   \n",
       "2             Residential Care Officer  Male          07-07-67           1   \n",
       "3  Teachers Aide (Education Assistant)  Male          29-07-73          35   \n",
       "4                     General Gardener  Male          06-02-51         101   \n",
       "\n",
       "   RTW Category  Age at Accident Date Settled  Duration of Service  \\\n",
       "0  RTW 13 Weeks                    55       N              46 days   \n",
       "1  RTW 13 Weeks                    49       N               1 days   \n",
       "2  RTW 13 Weeks                    48       N               1 days   \n",
       "3  RTW 13 Weeks                    41       N              35 days   \n",
       "4  RTW 26 Weeks                    63       N             101 days   \n",
       "\n",
       "  Duration of Incident  \n",
       "0              84 days  \n",
       "1              42 days  \n",
       "2              49 days  \n",
       "3             167 days  \n",
       "4             631 days  \n",
       "\n",
       "[5 rows x 22 columns]"
      ]
     },
     "execution_count": 9,
     "metadata": {},
     "output_type": "execute_result"
    }
   ],
   "source": [
    "# Let's remove columns Claim No, Incident Date, Finalised Date, Service Start Date and Service End Date\n",
    "# df.drop(['column_nameA', 'column_nameB'], axis=1, inplace=True)\n",
    "df_filtered = df.drop(['Claim No', 'Incident Date', 'Finalised Date', 'Service Start Date', 'Service End Date'], axis=1)\n",
    "df_filtered.head()"
   ]
  },
  {
   "cell_type": "code",
   "execution_count": 10,
   "id": "6976540a",
   "metadata": {},
   "outputs": [
    {
     "name": "stdout",
     "output_type": "stream",
     "text": [
      "Index(['Occurrence No', 'Claim Financial Year', 'Agency NN', 'Total Paid',\n",
      "       'Paid Days Lost', 'Injury Agency Group', 'Bodily Location Group',\n",
      "       'Mechanism Group', 'Nature Group', 'Bodily Location', 'Mechanism',\n",
      "       'Nature', 'Major', 'Occupation', 'Gender', 'Date of Birth',\n",
      "       'Days to RTW', 'RTW Category', 'Age at Accident Date', 'Settled',\n",
      "       'Duration of Service', 'Duration of Incident'],\n",
      "      dtype='object')\n"
     ]
    }
   ],
   "source": [
    "print(df_filtered.columns)"
   ]
  },
  {
   "cell_type": "code",
   "execution_count": 11,
   "id": "acdbd5eb",
   "metadata": {},
   "outputs": [
    {
     "name": "stdout",
     "output_type": "stream",
     "text": [
      "$0.00          62\n",
      "$645.50         4\n",
      "$961.41         3\n",
      "$966.92         3\n",
      "$295.44         3\n",
      "               ..\n",
      "$13,712.79      1\n",
      "$99,596.72      1\n",
      "$5,182.77       1\n",
      "$273.59         1\n",
      "$1,074.67       1\n",
      "Name: Total Paid, Length: 22941, dtype: int64\n",
      "1         1140\n",
      "2         1101\n",
      "3          773\n",
      "4          573\n",
      "5          492\n",
      "          ... \n",
      "318.83       1\n",
      "600.47       1\n",
      "75.56        1\n",
      "264          1\n",
      "429.06       1\n",
      "Name: Paid Days Lost, Length: 7392, dtype: int64\n",
      "Animal, Human and Biological Agencies              7098\n",
      "Non-powered Handtools, Appliances and Equipment    5988\n",
      "Environmental Agencies                             3789\n",
      "Other and Unspecified Agencies                     2405\n",
      "Mobile Plant and Transport                         1174\n",
      "Materials and Substances                           1143\n",
      "Powered Equipment, Tools and Appliances            1034\n",
      "Machinery and (Mainly) Fixed Plant                  321\n",
      "Chemicals and Chemical Products                     187\n",
      "Name: Injury Agency Group, dtype: int64\n",
      "Upper Limbs                                    6216\n",
      "Lower Limbs                                    5255\n",
      "Trunk (inc. Back)                              4450\n",
      "Multiple Locations                             2799\n",
      "Non-physical Locations (Psychological)         2075\n",
      "Head                                           1637\n",
      "Neck                                            574\n",
      "Systemic Locations (eg. Nervous, Digestive)     107\n",
      "Unspecified Locations                            26\n",
      "Name: Bodily Location Group, dtype: int64\n",
      "Body Stressing                                8358\n",
      "Falls, Slips and Trips of a Person            5637\n",
      "Being Hit by Moving Objects                   5016\n",
      "Mental Stress                                 1909\n",
      "Hitting Objects with a Part of the Body       1118\n",
      "Other and Unspecified Mechanisms of Injury     328\n",
      "Chemicals and Other Substances                 295\n",
      "Heat, Radiation and Electricity                246\n",
      "Biological Factors                             205\n",
      "Sound and Pressure                              27\n",
      "Name: Mechanism Group, dtype: int64\n",
      "Sprains, Strains and Dislocations               10132\n",
      "Musculoskeletal System and Connective Tissue     3525\n",
      "Contusion and Crushing                           2476\n",
      "Mental Disorders                                 2197\n",
      "Fractures                                        1551\n",
      "All Other Diseases                               1126\n",
      "Open Wound                                        966\n",
      "Superficial Injury                                796\n",
      "Burns                                             232\n",
      "Foreign body, Ear, Eye, Nose, Respiratory          88\n",
      "Multiple Injuries                                  50\n",
      "Name: Nature Group, dtype: int64\n",
      "Lower back                            2810\n",
      "Knee                                  2235\n",
      "Psychological system in general       2075\n",
      "Shoulder                              2048\n",
      "Other specified multiple locations    1425\n",
      "                                      ... \n",
      "Other internal chest organs              1\n",
      "Liver and intrapepatic ducts             1\n",
      "Kidney                                   1\n",
      "Bladder                                  1\n",
      "Large intestine                          1\n",
      "Name: Bodily Location, Length: 83, dtype: int64\n",
      "Falls on the same level                          3913\n",
      "Muscular stress-lift, carry, put down objects    3010\n",
      "Muscular stress while handling object            2652\n",
      "Being assaulted by a person or persons           2644\n",
      "Muscular stress with no objects handled          1598\n",
      "Repetitive movement, low muscle loading          1098\n",
      "Stepping, kneeling  or sitting on objects        1016\n",
      "Being hit by moving objects                       973\n",
      "Hitting stationary objects                        784\n",
      "Falls from a height                               708\n",
      "Exposure to a traumatic event                     598\n",
      "Being hit by a person accidentally                477\n",
      "Harassment                                        440\n",
      "Work Pressure                                     412\n",
      "Being trapped between stationary & moving obj     392\n",
      "Hitting moving objects                            317\n",
      "Other Mental stress factors                       282\n",
      "Being hit by falling objects                      261\n",
      "Vehicle accident                                  197\n",
      "Single contact with chemical or substance         195\n",
      "Exposure to workplace/occupational violence       165\n",
      "Contact with hot objects                          162\n",
      "Being trapped by moving machinery or equip        124\n",
      "Contact with bio factors of human origin          114\n",
      "Contact with bio factors of non-human origin       91\n",
      "Being hit by an animal                             90\n",
      "Unspecified mechanisms of injury                   81\n",
      "Contact with electricity                           55\n",
      "Insect and spider bites and stings                 51\n",
      "Being bitten by an animal                          51\n",
      "Other and multiple mechanisms of injury            48\n",
      "Long term contact with chemicals or substance      27\n",
      "Exposure to environmental heat                     25\n",
      "Other & unspecified contact with chem or sub       21\n",
      "Rubbing and chafing                                17\n",
      "Exposure to single, sudden sound                   14\n",
      "Long term exposure to sounds                        9\n",
      "Suicide or attempted suicide                        7\n",
      "Mental stress relating to Coronavirus COVID19       5\n",
      "Other variations in pressure                        4\n",
      "Exposure to mechanical vibration                    4\n",
      "Slide or cave-in                                    2\n",
      "Exposure to non-ionising radiation                  2\n",
      "Exposure to environmental cold                      1\n",
      "Contact with poisonous parts of plant or mari       1\n",
      "Contact with cold objects                           1\n",
      "Name: Mechanism, dtype: int64\n",
      "Sprains and strains of joints and muscles        9992\n",
      "Disorders muscles, tendons, other soft tissue    3453\n",
      "Contusion with intact skin and crushing          2476\n",
      "Mental disorders                                 2197\n",
      "Fractures                                        1527\n",
      "Open wound not including traumatic amputation     966\n",
      "Superficial injury                                796\n",
      "Burns                                             232\n",
      "Intracranial injury including concussion          210\n",
      "Other and unspecified injuries                    193\n",
      "Dislocation                                       140\n",
      "Poisoning & toxic effects of substances            99\n",
      "Foreign body - eye, ear, nose, respiratory         88\n",
      "Hernia                                             85\n",
      "Other diseases                                     60\n",
      "Other respiratory conditions due to substance      53\n",
      "Multiple injuries                                  50\n",
      "Other diseases of skin & subcutaneous tissue       48\n",
      "Dorsopathies - disorders of vertebrae & discs      46\n",
      "Effects of weather, exposure, air pressure         40\n",
      "Injuries to nerves & spinal cord                   37\n",
      "Other diseases of respiratory system               33\n",
      "Other infectious and parasitic diseases            32\n",
      "Contact dermatitis                                 31\n",
      "Disorders nerve roots, plexuses                    28\n",
      "Disorders of the conjunctiva and cornea            27\n",
      "Fracture of vertebral column                       24\n",
      "Arthopathies and related disorders                 20\n",
      "Other disorders of the eye                         17\n",
      "Internal injury chest, abdomen and pelvis          16\n",
      "Asthma                                             13\n",
      "Other unspecified dermatitis or eczema             13\n",
      "Other diseases digestive system                    12\n",
      "Deafness                                           11\n",
      "Other diseases of ear & mastoid process             9\n",
      "Adverse event following immunisation                8\n",
      "Intestinal infectious diseases                      8\n",
      "Other diseases circulatory system                   7\n",
      "Viral diseases exc hepatitis, STD, AIDS             7\n",
      "Traumatic amputation including eye                  6\n",
      "Osteopathies, chondropathies & acquired muscl       6\n",
      "Neoplasms of uncertain behaviour                    3\n",
      "Other malignant neoplasms and carcinomas            3\n",
      "Ischaemic heart disease                             2\n",
      "Damage to artificial aid(s)                         2\n",
      "Other heart disease exc ischaemic heart             2\n",
      "Anxiety/stress disorder                             2\n",
      "Mental diseases unspecified                         1\n",
      "Novel coronavirus (COVID-19)                        1\n",
      "Malignant neoplasm of pleura (mesothelioma)         1\n",
      "Mycoses                                             1\n",
      "Hypertension (high blood pressure)                  1\n",
      "Diseases brain, spinal cord                         1\n",
      "Cerebrovascular disease                             1\n",
      "Depression                                          1\n",
      "Post-traumatic stress disorder                      1\n",
      "Name: Nature, dtype: int64\n",
      "Intermediate Clerical, Sales and Service Workers    8159\n",
      "Professionals                                       7428\n",
      "Associate Professionals                             2179\n",
      "Labourers and Related Workers                       1797\n",
      "Tradespersons and Related Workers                   1527\n",
      "Elementary Clerical, Sales and Service Workers       930\n",
      "Managers and Administrators                          551\n",
      "Intermediate Production and Transport Workers        480\n",
      "Advanced Clerical and Service Workers                 65\n",
      "Non ASCO Codes                                        22\n",
      "Unknown                                                1\n",
      "Name: Major, dtype: int64\n",
      "Teachers Aide (Education Assistant)              2898\n",
      "Prison Officer                                   2594\n",
      "Registered Nurse                                 2183\n",
      "Primary School Teacher                           1300\n",
      "Secondary School Teacher                         1213\n",
      "                                                 ... \n",
      "Sales Assistant (Other Personal and Household       1\n",
      "Bank Worker                                         1\n",
      "Sales Clerk                                         1\n",
      "Software Designer                                   1\n",
      "Personnel Consultant                                1\n",
      "Name: Occupation, Length: 446, dtype: int64\n",
      "Female      14492\n",
      "Male         8646\n",
      "Unknown         1\n",
      "Name: Gender, dtype: int64\n",
      "21-10-71    16\n",
      "26-06-64    16\n",
      "08-09-56    13\n",
      "14-04-72    13\n",
      "12-03-71    13\n",
      "            ..\n",
      "24-06-75     1\n",
      "15-11-68     1\n",
      "31-12-64     1\n",
      "01-07-92     1\n",
      "04-12-83     1\n",
      "Name: Date of Birth, Length: 10877, dtype: int64\n",
      "RTW 13 Weeks        15113\n",
      "Not RTW 26 Weeks     5535\n",
      "RTW 26 Weeks         2491\n",
      "Name: RTW Category, dtype: int64\n",
      "N    20261\n",
      "Y     2878\n",
      "Name: Settled, dtype: int64\n"
     ]
    }
   ],
   "source": [
    "# Observing the value counts for each column\n",
    "for col in df_filtered.columns:\n",
    "    if df_filtered[col].dtype == 'object':\n",
    "        print(df_filtered[col].value_counts())"
   ]
  },
  {
   "cell_type": "code",
   "execution_count": 12,
   "id": "f56e1960",
   "metadata": {},
   "outputs": [
    {
     "data": {
      "text/plain": [
       "Female      14492\n",
       "Male         8646\n",
       "Unknown         1\n",
       "Name: Gender, dtype: int64"
      ]
     },
     "execution_count": 12,
     "metadata": {},
     "output_type": "execute_result"
    }
   ],
   "source": [
    "df_filtered['Gender'].value_counts()"
   ]
  },
  {
   "cell_type": "code",
   "execution_count": 13,
   "id": "7a2460d4",
   "metadata": {},
   "outputs": [
    {
     "data": {
      "text/html": [
       "<div>\n",
       "<style scoped>\n",
       "    .dataframe tbody tr th:only-of-type {\n",
       "        vertical-align: middle;\n",
       "    }\n",
       "\n",
       "    .dataframe tbody tr th {\n",
       "        vertical-align: top;\n",
       "    }\n",
       "\n",
       "    .dataframe thead th {\n",
       "        text-align: right;\n",
       "    }\n",
       "</style>\n",
       "<table border=\"1\" class=\"dataframe\">\n",
       "  <thead>\n",
       "    <tr style=\"text-align: right;\">\n",
       "      <th></th>\n",
       "      <th>Occurrence No</th>\n",
       "      <th>Claim Financial Year</th>\n",
       "      <th>Agency NN</th>\n",
       "      <th>Total Paid</th>\n",
       "      <th>Paid Days Lost</th>\n",
       "      <th>Injury Agency Group</th>\n",
       "      <th>Bodily Location Group</th>\n",
       "      <th>Mechanism Group</th>\n",
       "      <th>Nature Group</th>\n",
       "      <th>Bodily Location</th>\n",
       "      <th>...</th>\n",
       "      <th>Major</th>\n",
       "      <th>Occupation</th>\n",
       "      <th>Gender</th>\n",
       "      <th>Date of Birth</th>\n",
       "      <th>Days to RTW</th>\n",
       "      <th>RTW Category</th>\n",
       "      <th>Age at Accident Date</th>\n",
       "      <th>Duration of Service</th>\n",
       "      <th>Duration of Incident</th>\n",
       "      <th>Settled</th>\n",
       "    </tr>\n",
       "  </thead>\n",
       "  <tbody>\n",
       "    <tr>\n",
       "      <th>0</th>\n",
       "      <td>1</td>\n",
       "      <td>2013</td>\n",
       "      <td>7069</td>\n",
       "      <td>$8,580.00</td>\n",
       "      <td>26.01</td>\n",
       "      <td>Mobile Plant and Transport</td>\n",
       "      <td>Trunk (inc. Back)</td>\n",
       "      <td>Body Stressing</td>\n",
       "      <td>Sprains, Strains and Dislocations</td>\n",
       "      <td>Stomach</td>\n",
       "      <td>...</td>\n",
       "      <td>Intermediate Clerical, Sales and Service Workers</td>\n",
       "      <td>Personal Care Assistant</td>\n",
       "      <td>Male</td>\n",
       "      <td>05-11-56</td>\n",
       "      <td>46</td>\n",
       "      <td>RTW 13 Weeks</td>\n",
       "      <td>55</td>\n",
       "      <td>46 days</td>\n",
       "      <td>84 days</td>\n",
       "      <td>N</td>\n",
       "    </tr>\n",
       "  </tbody>\n",
       "</table>\n",
       "<p>1 rows × 22 columns</p>\n",
       "</div>"
      ],
      "text/plain": [
       "   Occurrence No  Claim Financial Year  Agency NN  Total Paid Paid Days Lost  \\\n",
       "0              1                  2013       7069  $8,580.00           26.01   \n",
       "\n",
       "          Injury Agency Group Bodily Location Group Mechanism Group  \\\n",
       "0  Mobile Plant and Transport     Trunk (inc. Back)  Body Stressing   \n",
       "\n",
       "                        Nature Group Bodily Location  ...  \\\n",
       "0  Sprains, Strains and Dislocations         Stomach  ...   \n",
       "\n",
       "                                              Major               Occupation  \\\n",
       "0  Intermediate Clerical, Sales and Service Workers  Personal Care Assistant   \n",
       "\n",
       "     Gender Date of Birth Days to RTW  RTW Category  Age at Accident Date  \\\n",
       "0  Male          05-11-56          46  RTW 13 Weeks                    55   \n",
       "\n",
       "  Duration of Service  Duration of Incident Settled  \n",
       "0             46 days               84 days       N  \n",
       "\n",
       "[1 rows x 22 columns]"
      ]
     },
     "execution_count": 13,
     "metadata": {},
     "output_type": "execute_result"
    }
   ],
   "source": [
    "# Let's move Settled to the last column\n",
    "column_to_move = df_filtered.pop(\"Settled\")\n",
    "df_filtered.insert(21, \"Settled\", column_to_move)\n",
    "df_filtered.head(1)"
   ]
  },
  {
   "cell_type": "markdown",
   "id": "4aff71a5",
   "metadata": {},
   "source": [
    "### Making use of Bar Charts and Box plots to see the correlation between the columns and the Settled column"
   ]
  },
  {
   "cell_type": "code",
   "execution_count": 14,
   "id": "99731e16",
   "metadata": {},
   "outputs": [
    {
     "data": {
      "image/png": "[encoded data removed]",
      "text/plain": [
       "<Figure size 432x288 with 1 Axes>"
      ]
     },
     "metadata": {
      "needs_background": "light"
     },
     "output_type": "display_data"
    }
   ],
   "source": [
    "df_filtered['Settled'].value_counts().plot(kind='bar', xlabel='Settled', ylabel='Count', rot=0)\n",
    "plt.show()"
   ]
  },
  {
   "cell_type": "markdown",
   "id": "762980f3",
   "metadata": {},
   "source": [
    "### Using Chi-Squared Test to pick the best features to use "
   ]
  },
  {
   "cell_type": "code",
   "execution_count": 15,
   "id": "3c0ace38",
   "metadata": {},
   "outputs": [
    {
     "name": "stdout",
     "output_type": "stream",
     "text": [
      "[['1' '2013' '7069' ... '55' '46 days 00:00:00' '84 days 00:00:00']\n",
      " ['1' '2021' '63246' ... '49' '1 days 00:00:00' '42 days 00:00:00']\n",
      " ['1' '2016' '2043954' ... '48' '1 days 00:00:00' '49 days 00:00:00']\n",
      " ...\n",
      " ['1' '2019' '2623845' ... '49' '3 days 00:00:00' '49 days 00:00:00']\n",
      " ['1' '2013' '2253554' ... '57' '2 days 00:00:00' '344 days 00:00:00']\n",
      " ['1' '2022' '2623920' ... '53' '298 days 00:00:00' '389 days 00:00:00']] ['N' 'N' 'N' ... 'N' 'N' 'Y']\n"
     ]
    }
   ],
   "source": [
    "# # split into train and test sets\n",
    "# X_train, X_test, y_train, y_test = train_test_split(X, y, test_size=0.33, random_state=1)\n",
    "# # summarize\n",
    "# print('Train', X_train.shape, y_train.shape)\n",
    "# print('Test', X_test.shape, y_test.shape)\n",
    "\n",
    "# Retrieve numpy array\n",
    "dataset = df_filtered.values\n",
    "# Split into input (X) and output (y) variables\n",
    "X = dataset[:, :-1]\n",
    "y = dataset[:,-1]\n",
    "# format all fields as string\n",
    "X = X.astype(str)\n",
    "print(X, y)"
   ]
  },
  {
   "cell_type": "code",
   "execution_count": 16,
   "id": "3b1f78ef",
   "metadata": {},
   "outputs": [
    {
     "name": "stdout",
     "output_type": "stream",
     "text": [
      "Train (15503, 21) (15503,)\n",
      "Test (7636, 21) (7636,)\n"
     ]
    }
   ],
   "source": [
    "from sklearn.model_selection import train_test_split\n",
    "# Split data into train and test sets, using 67% of data for training and 33% for testing\n",
    "X_train, X_test, y_train, y_test = train_test_split(X, y, test_size=0.33, random_state=1)\n",
    "# Summarize\n",
    "print('Train', X_train.shape, y_train.shape)\n",
    "print('Test', X_test.shape, y_test.shape)"
   ]
  },
  {
   "cell_type": "markdown",
   "id": "b251e93f",
   "metadata": {},
   "source": [
    "### Prepare the Input data"
   ]
  },
  {
   "cell_type": "code",
   "execution_count": 17,
   "id": "8b3a7c6d",
   "metadata": {},
   "outputs": [
    {
     "name": "stdout",
     "output_type": "stream",
     "text": [
      "[[2.000e+00 1.000e+00 1.080e+02 ... 2.000e+01 3.340e+02 7.270e+02]\n",
      " [2.000e+00 1.000e+00 1.080e+02 ... 3.900e+01 8.110e+02 6.200e+01]\n",
      " [3.000e+00 1.000e+00 2.000e+01 ... 2.300e+01 9.200e+01 7.310e+02]\n",
      " ...\n",
      " [0.000e+00 8.000e+00 1.080e+02 ... 4.400e+01 7.950e+02 1.534e+03]\n",
      " [0.000e+00 6.000e+00 8.400e+01 ... 4.200e+01 9.390e+02 1.659e+03]\n",
      " [0.000e+00 5.000e+00 1.080e+02 ... 3.800e+01 7.740e+02 1.070e+02]] [[   0.    0.   56. ...   30.  587.  188.]\n",
      " [   0.    0.  108. ...   40.  334.  667.]\n",
      " [   0.    6.  108. ...   25.  795.  596.]\n",
      " ...\n",
      " [   0.    7.  108. ...   51. 1103.  991.]\n",
      " [   0.    3.   20. ...   40.  674. 1677.]\n",
      " [   0.    9.   83. ...   45. 1094.  314.]]\n"
     ]
    }
   ],
   "source": [
    "from sklearn.preprocessing import OrdinalEncoder\n",
    "oe = OrdinalEncoder(handle_unknown='use_encoded_value', unknown_value=-1)\n",
    "oe.fit(X_train)\n",
    "X_train_enc = oe.transform(X_train)\n",
    "X_test_enc = oe.transform(X_test)\n",
    "print(X_train_enc, X_test_enc)"
   ]
  },
  {
   "cell_type": "markdown",
   "id": "09d9bd49",
   "metadata": {},
   "source": [
    "### Prepare the Output data"
   ]
  },
  {
   "cell_type": "code",
   "execution_count": 18,
   "id": "0c573ea0",
   "metadata": {},
   "outputs": [
    {
     "name": "stdout",
     "output_type": "stream",
     "text": [
      "[0 1 0 ... 0 1 1] [0 0 0 ... 0 0 0]\n"
     ]
    }
   ],
   "source": [
    "from sklearn import preprocessing\n",
    "le = preprocessing.LabelEncoder()\n",
    "le.fit(y_train)\n",
    "y_train_enc = le.transform(y_train)\n",
    "y_test_enc = le.transform(y_test)\n",
    "print(y_train_enc, y_test_enc)"
   ]
  },
  {
   "cell_type": "markdown",
   "id": "58b88538",
   "metadata": {},
   "source": [
    "### Now that we have loaded and prepared the dataset, we can explore feature selection."
   ]
  },
  {
   "cell_type": "markdown",
   "id": "b8d9fb24",
   "metadata": {},
   "source": [
    "### Chi-Squared Feature Selection\n",
    "#### Pearson’s chi-squared statistical hypothesis test is an example of a test for independence between categorical variables."
   ]
  },
  {
   "cell_type": "code",
   "execution_count": 19,
   "id": "efcf2731",
   "metadata": {},
   "outputs": [],
   "source": [
    "from sklearn.feature_selection import SelectKBest\n",
    "from sklearn.feature_selection import chi2\n",
    "fs = SelectKBest(score_func=chi2, k='all')\n",
    "fs.fit(X_train_enc, y_train_enc)\n",
    "X_train_fs = fs.transform(X_train_enc)\n",
    "X_test_fs = fs.transform(X_test_enc)"
   ]
  },
  {
   "cell_type": "markdown",
   "id": "7a554cba",
   "metadata": {},
   "source": [
    "#### We can then print the scores for each variable (largest is better), and plot the scores for each variable as a bar graph to get an idea of how many features we should select."
   ]
  },
  {
   "cell_type": "code",
   "execution_count": 20,
   "id": "12090665",
   "metadata": {},
   "outputs": [
    {
     "name": "stdout",
     "output_type": "stream",
     "text": [
      "Feature 0: 1494.877961\n",
      "Feature 1: 140.987184\n",
      "Feature 2: 149.032149\n",
      "Feature 3: 30019.821978\n",
      "Feature 4: 75622.256117\n",
      "Feature 5: 1.231208\n",
      "Feature 6: 18.164627\n",
      "Feature 7: 282.887569\n",
      "Feature 8: 0.213988\n",
      "Feature 9: 1480.395651\n",
      "Feature 10: 251.080662\n",
      "Feature 11: 22.389234\n",
      "Feature 12: 1.681745\n",
      "Feature 13: 1403.654780\n",
      "Feature 14: 7.614364\n",
      "Feature 15: 2292.660728\n",
      "Feature 16: 94588.371797\n",
      "Feature 17: 982.976218\n",
      "Feature 18: 537.350621\n",
      "Feature 19: 72113.337707\n",
      "Feature 20: 19245.663535\n"
     ]
    },
    {
     "data": {
      "image/png": "[encoded data removed]",
      "text/plain": [
       "<Figure size 432x288 with 1 Axes>"
      ]
     },
     "metadata": {
      "needs_background": "light"
     },
     "output_type": "display_data"
    }
   ],
   "source": [
    "# Get the scores for each feature\n",
    "import matplotlib.pyplot as plt\n",
    "for i in range(len(fs.scores_)):\n",
    "    print('Feature %d: %f' % (i, fs.scores_[i]))\n",
    "# Plot the scores\n",
    "plt.bar([i for i in range(len(fs.scores_))], fs.scores_)\n",
    "plt.show()"
   ]
  },
  {
   "cell_type": "code",
   "execution_count": 21,
   "id": "6675c77a",
   "metadata": {},
   "outputs": [
    {
     "data": {
      "text/plain": [
       "22"
      ]
     },
     "execution_count": 21,
     "metadata": {},
     "output_type": "execute_result"
    }
   ],
   "source": [
    "len(df_filtered.columns)"
   ]
  },
  {
   "cell_type": "code",
   "execution_count": 22,
   "id": "067a4260",
   "metadata": {},
   "outputs": [
    {
     "name": "stdout",
     "output_type": "stream",
     "text": [
      "{'Occurrence No': [1494.877960704207], 'Claim Financial Year': [140.98718449221423], 'Agency NN': [149.03214924108906], 'Total Paid': [30019.82197784309], 'Paid Days Lost': [75622.25611730787], 'Injury Agency Group': [1.2312075049117401], 'Bodily Location Group': [18.16462735010077], 'Mechanism Group': [282.88756947524524], 'Nature Group': [0.2139880489614825], 'Bodily Location': [1480.3956511522208], 'Mechanism': [251.08066249432255], 'Nature': [22.389234004571243], 'Major': [1.6817454089103652], 'Occupation': [1403.6547798058482], 'Gender': [7.614363904368194], 'Date of Birth': [2292.6607275935044], 'Days to RTW': [94588.37179683124], 'RTW Category': [982.9762176274314], 'Age at Accident Date': [537.3506210862328], 'Duration of Service': [72113.33770704552], 'Duration of Incident': [19245.66353498628]}\n"
     ]
    }
   ],
   "source": [
    "# Print the scores with the name of the respective feature\n",
    "feature_scores = {}\n",
    "for (score,feature) in zip(fs.scores_, df_filtered.columns):\n",
    "    #print(\"Feature: \", feature ,\"; Score: \", score)\n",
    "    feature_scores[feature] = []\n",
    "    feature_scores[feature].append(score)\n",
    "print(feature_scores)"
   ]
  },
  {
   "cell_type": "markdown",
   "id": "1e2ddd26",
   "metadata": {},
   "source": [
    "#### From our Chi Square, there are 5 major features, so let's pick the top 5 features from the feature score dictionary"
   ]
  },
  {
   "cell_type": "code",
   "execution_count": 23,
   "id": "a74ea323",
   "metadata": {},
   "outputs": [
    {
     "name": "stdout",
     "output_type": "stream",
     "text": [
      "['Days to RTW', 'Paid Days Lost', 'Duration of Service', 'Total Paid', 'Duration of Incident']\n"
     ]
    }
   ],
   "source": [
    "# To get the top 5 features\n",
    "from heapq import nlargest\n",
    "top_5_features = nlargest(5, feature_scores, key = feature_scores.get)\n",
    "print(top_5_features)"
   ]
  },
  {
   "cell_type": "markdown",
   "id": "0cf49b28",
   "metadata": {},
   "source": [
    "#### The null hypothesis for chi2 test is that \"two categorical variables are independent\". So a higher value of chi2 statistic means \"two categorical variables are dependent\" and MORE USEFUL for classification."
   ]
  },
  {
   "cell_type": "code",
   "execution_count": 24,
   "id": "586f85d9",
   "metadata": {},
   "outputs": [
    {
     "name": "stdout",
     "output_type": "stream",
     "text": [
      "Feature 0: 1494.877961\n",
      "Feature 1: 140.987184\n",
      "Feature 2: 149.032149\n",
      "Feature 3: 30019.821978\n",
      "Feature 4: 75622.256117\n",
      "Feature 5: 1.231208\n",
      "Feature 6: 18.164627\n",
      "Feature 7: 282.887569\n",
      "Feature 8: 0.213988\n",
      "Feature 9: 1480.395651\n",
      "Feature 10: 251.080662\n",
      "Feature 11: 22.389234\n",
      "Feature 12: 1.681745\n",
      "Feature 13: 1403.654780\n",
      "Feature 14: 7.614364\n",
      "Feature 15: 2292.660728\n",
      "Feature 16: 94588.371797\n",
      "Feature 17: 982.976218\n",
      "Feature 18: 537.350621\n",
      "Feature 19: 72113.337707\n",
      "Feature 20: 19245.663535\n"
     ]
    }
   ],
   "source": [
    "# We edit the chi square feature selection to pick the top 5 values(Days to RTW, Paid Days Lost, Duration of Service, Total Paid, Duration of Incident)\n",
    "fs = SelectKBest(score_func=chi2, k=5)\n",
    "fs.fit(X_train_enc, y_train_enc)\n",
    "X_train_fs = fs.transform(X_train_enc)\n",
    "X_test_fs = fs.transform(X_test_enc)\n",
    "\n",
    "# Print the features and scores \n",
    "for i in range(len(fs.scores_)):\n",
    "    print('Feature %d: %f' % (i, fs.scores_[i]))"
   ]
  },
  {
   "cell_type": "code",
   "execution_count": 25,
   "id": "2b409651",
   "metadata": {},
   "outputs": [
    {
     "name": "stdout",
     "output_type": "stream",
     "text": [
      "[[12827.  2673.   334.   334.   727.]\n",
      " [11799.  3987.   811.   811.    62.]\n",
      " [ 9079.  3248.    92.    92.   731.]\n",
      " ...\n",
      " [  661.  3385.   795.   795.  1534.]\n",
      " [ 6285.  3980.   939.   939.  1659.]\n",
      " [ 8610.  3567.   774.   774.   107.]]\n"
     ]
    }
   ],
   "source": [
    "print(X_train_fs)"
   ]
  },
  {
   "cell_type": "markdown",
   "id": "5a2ebed6",
   "metadata": {},
   "source": [
    "#### Now Let's use the features gotten from Chi Square and fit the model.\n",
    "##### The following Classification models will be used\n",
    "* Logistic Regression\n",
    "* Support Vector Machines\n",
    "* Decision Tree\n",
    "* KNN"
   ]
  },
  {
   "cell_type": "markdown",
   "id": "6e697d3f",
   "metadata": {},
   "source": [
    "### Logistic Regression Model"
   ]
  },
  {
   "cell_type": "code",
   "execution_count": 26,
   "id": "b8c83adb",
   "metadata": {},
   "outputs": [],
   "source": [
    "# Logistic Regression classification algorithm\n",
    "from sklearn.linear_model import LogisticRegression\n",
    "# Support Vector Machine classification algorithm\n",
    "from sklearn.svm import SVC\n",
    "# Decision Tree classification algorithm\n",
    "from sklearn.tree import DecisionTreeClassifier\n",
    "# K Nearest Neighbors classification algorithm\n",
    "from sklearn.neighbors import KNeighborsClassifier"
   ]
  },
  {
   "cell_type": "code",
   "execution_count": 27,
   "id": "b9bc7de2",
   "metadata": {},
   "outputs": [],
   "source": [
    "# Function for plotting CONFUSION MATRIX\n",
    "def plot_confusion_matrix(y,y_predict):\n",
    "    \"this function plots the confusion matrix\"\n",
    "    from sklearn.metrics import confusion_matrix\n",
    "    \n",
    "    cm = confusion_matrix(y, y_predict)\n",
    "    ax=plt.subplot()\n",
    "    sns.heatmap(cm, annot=True, ax=ax); #annot=True to annotate cells\n",
    "    ax.set_xlabel('Predicted labels')\n",
    "    ax.set_ylabel('True labels')\n",
    "    ax.set_title('Confusion Matrix');\n",
    "    ax.xaxis.set_ticklabels(['Not settled', 'Settled']); ax.yaxis.set_ticklabels(['Not settled', 'Settled'])"
   ]
  },
  {
   "cell_type": "code",
   "execution_count": 29,
   "id": "ef3666c7",
   "metadata": {},
   "outputs": [
    {
     "name": "stdout",
     "output_type": "stream",
     "text": [
      "Logistic Regression accuracy is  0.8791251964379256\n"
     ]
    },
    {
     "data": {
      "image/png": "[encoded data removed]",
      "text/plain": [
       "<Figure size 432x288 with 2 Axes>"
      ]
     },
     "metadata": {
      "needs_background": "light"
     },
     "output_type": "display_data"
    }
   ],
   "source": [
    "lr=LogisticRegression()\n",
    "\n",
    "# Train the model\n",
    "lr.fit(X_train_fs, y_train_enc)\n",
    "\n",
    "# Get the accuracy score of the model\n",
    "lr_score = lr.score(X_test_fs, y_test_enc)\n",
    "print(\"Logistic Regression accuracy is \", lr_score)\n",
    "\n",
    "# Plot the confusion matrix\n",
    "yhat=lr.predict(X_test_fs)\n",
    "threshold = 0.2\n",
    "lr_yhat= (lr.predict_proba(X_test_fs)[:,1] >= threshold).astype(bool) \n",
    "plot_confusion_matrix(y_test_enc,lr_yhat)"
   ]
  },
  {
   "cell_type": "code",
   "execution_count": 30,
   "id": "69819c1b",
   "metadata": {},
   "outputs": [
    {
     "name": "stdout",
     "output_type": "stream",
     "text": [
      "Scoring based on tuned threshold\n",
      "--------------------------------------------------\n",
      "Accuracy score:          0.7949188056574122\n",
      "Balanced accuracy score: 0.5301351705322979\n",
      "F1 score:                0.17578947368421052\n",
      "--------------------------------------------------\n"
     ]
    }
   ],
   "source": [
    "from sklearn.metrics import accuracy_score, balanced_accuracy_score, f1_score\n",
    "\n",
    "print('Scoring based on tuned threshold')\n",
    "print('-'*50)\n",
    "print(f'Accuracy score:          {accuracy_score(y_test_enc, lr_yhat > threshold)}')\n",
    "print(f'Balanced accuracy score: {balanced_accuracy_score(y_test_enc, lr_yhat > threshold)}')\n",
    "print(f'F1 score:                {f1_score(y_test_enc, lr_yhat > threshold)}')\n",
    "print('-'*50)"
   ]
  },
  {
   "cell_type": "markdown",
   "id": "04cf130f",
   "metadata": {},
   "source": [
    "#### ROC FOR LOGISTIC REGRESSION MODEL"
   ]
  },
  {
   "cell_type": "code",
   "execution_count": 31,
   "id": "3ba0d487",
   "metadata": {},
   "outputs": [
    {
     "name": "stdout",
     "output_type": "stream",
     "text": [
      "LR: ROC AUC=0.586\n"
     ]
    },
    {
     "data": {
      "image/png": "[encoded data removed]",
      "text/plain": [
       "<Figure size 432x288 with 1 Axes>"
      ]
     },
     "metadata": {
      "needs_background": "light"
     },
     "output_type": "display_data"
    }
   ],
   "source": [
    "from sklearn.metrics import roc_auc_score\n",
    "from sklearn.metrics import roc_curve\n",
    "# predict the probability\n",
    "lr_probs = lr.predict_proba(X_test_fs)\n",
    "# keep probabilities for the positive outcome only\n",
    "lr_probs = lr_probs[:, 1]\n",
    "# calculate scores\n",
    "lr_auc = roc_auc_score(y_test_enc, lr_probs)\n",
    "# summarize scores\n",
    "print('LR: ROC AUC=%.3f' % (lr_auc))\n",
    "# calculate roc scores\n",
    "lr_fpr, lr_tpr, thresholds = roc_curve(y_test_enc, lr_probs)\n",
    "# plot the curve\n",
    "plt.plot(lr_fpr, lr_tpr, marker='.', label='LR')\n",
    "# axis labels\n",
    "plt.xlabel('False Positive Rate')\n",
    "plt.ylabel('True Positive Rate')\n",
    "# show the legend\n",
    "plt.legend()\n",
    "# show the plot\n",
    "plt.show()"
   ]
  },
  {
   "cell_type": "markdown",
   "id": "5625e53a",
   "metadata": {},
   "source": [
    "### SVM Model"
   ]
  },
  {
   "cell_type": "code",
   "execution_count": 32,
   "id": "c8a5daaf",
   "metadata": {},
   "outputs": [
    {
     "name": "stdout",
     "output_type": "stream",
     "text": [
      "SVM accuracy is  0.8791251964379256\n"
     ]
    },
    {
     "data": {
      "image/png": "[encoded data removed]",
      "text/plain": [
       "<Figure size 432x288 with 2 Axes>"
      ]
     },
     "metadata": {
      "needs_background": "light"
     },
     "output_type": "display_data"
    }
   ],
   "source": [
    "svm = SVC()\n",
    "\n",
    "# Train the model\n",
    "svm.fit(X_train_fs, y_train_enc)\n",
    "\n",
    "# Get the accuracy score of the model\n",
    "svm_score = svm.score(X_test_fs, y_test_enc)\n",
    "print('SVM accuracy is ', svm_score)\n",
    "\n",
    "# Plot the confusion matrix\n",
    "svm_yhat=svm.predict(X_test_fs)\n",
    "plot_confusion_matrix(y_test_enc,svm_yhat)"
   ]
  },
  {
   "cell_type": "markdown",
   "id": "2464811d",
   "metadata": {},
   "source": [
    "#### ROC CURVE FOR SVM MODEL"
   ]
  },
  {
   "cell_type": "markdown",
   "id": "37bf9554",
   "metadata": {},
   "source": [
    "### Decision Tree Model"
   ]
  },
  {
   "cell_type": "code",
   "execution_count": 33,
   "id": "2c77a9c3",
   "metadata": {},
   "outputs": [
    {
     "name": "stdout",
     "output_type": "stream",
     "text": [
      "Decision Tree accuracy is  0.8791251964379256\n"
     ]
    },
    {
     "data": {
      "image/png": "[encoded data removed]",
      "text/plain": [
       "<Figure size 432x288 with 2 Axes>"
      ]
     },
     "metadata": {
      "needs_background": "light"
     },
     "output_type": "display_data"
    }
   ],
   "source": [
    "tree=DecisionTreeClassifier()\n",
    "\n",
    "# Train the model\n",
    "tree.fit(X_train_fs, y_train_enc)\n",
    "\n",
    "# Get the accuracy score of the model\n",
    "tree_score = lr.score(X_test_fs, y_test_enc)\n",
    "print(\"Decision Tree accuracy is \", tree_score)\n",
    "\n",
    "# Plot the confusion matrix\n",
    "threshold = 0.2\n",
    "tree_yhat= (tree.predict_proba(X_test_fs)[:,1] >= threshold).astype(bool) \n",
    "#tree_yhat=lr.predict(X_test_fs)\n",
    "plot_confusion_matrix(y_test_enc,tree_yhat)"
   ]
  },
  {
   "cell_type": "code",
   "execution_count": 34,
   "id": "3fa37254",
   "metadata": {},
   "outputs": [
    {
     "name": "stdout",
     "output_type": "stream",
     "text": [
      "Scoring based on tuned threshold\n",
      "--------------------------------------------------\n",
      "Accuracy score:          0.8682556312205343\n",
      "Balanced accuracy score: 0.49849025975859973\n",
      "F1 score:                0.01949317738791423\n",
      "--------------------------------------------------\n"
     ]
    }
   ],
   "source": [
    "from sklearn.metrics import accuracy_score, balanced_accuracy_score, f1_score\n",
    "\n",
    "print('Scoring based on tuned threshold')\n",
    "print('-'*50)\n",
    "print(f'Accuracy score:          {accuracy_score(y_test_enc, tree_yhat > threshold)}')\n",
    "print(f'Balanced accuracy score: {balanced_accuracy_score(y_test_enc, tree_yhat > threshold)}')\n",
    "print(f'F1 score:                {f1_score(y_test_enc, tree_yhat > threshold)}')\n",
    "print('-'*50)"
   ]
  },
  {
   "cell_type": "markdown",
   "id": "cf888302",
   "metadata": {},
   "source": [
    "#### ROC CURVE FOR TREE MODEL"
   ]
  },
  {
   "cell_type": "code",
   "execution_count": 35,
   "id": "6489c583",
   "metadata": {},
   "outputs": [
    {
     "name": "stdout",
     "output_type": "stream",
     "text": [
      "Tree: ROC AUC=0.498\n"
     ]
    },
    {
     "data": {
      "image/png": "[encoded data removed]",
      "text/plain": [
       "<Figure size 432x288 with 1 Axes>"
      ]
     },
     "metadata": {
      "needs_background": "light"
     },
     "output_type": "display_data"
    }
   ],
   "source": [
    "from sklearn.metrics import roc_auc_score\n",
    "from sklearn.metrics import roc_curve\n",
    "# predict the probability\n",
    "tree_probs = tree.predict_proba(X_test_fs)\n",
    "# keep probabilities for the positive outcome only\n",
    "tree_probs = tree_probs[:, 1]\n",
    "# calculate scores\n",
    "tree_auc = roc_auc_score(y_test_enc, tree_probs)\n",
    "# summarize scores\n",
    "print('Tree: ROC AUC=%.3f' % (tree_auc))\n",
    "# calculate roc scores\n",
    "tree_fpr, tree_tpr, thresholds = roc_curve(y_test_enc, tree_probs)\n",
    "# plot the curve\n",
    "plt.plot(tree_fpr, tree_tpr, marker='.', label='Tree')\n",
    "# axis labels\n",
    "plt.xlabel('False Positive Rate')\n",
    "plt.ylabel('True Positive Rate')\n",
    "# show the legend\n",
    "plt.legend()\n",
    "# show the plot\n",
    "plt.show()"
   ]
  },
  {
   "cell_type": "markdown",
   "id": "34861635",
   "metadata": {},
   "source": [
    "### KNN Model"
   ]
  },
  {
   "cell_type": "code",
   "execution_count": 36,
   "id": "94e04cd3",
   "metadata": {},
   "outputs": [
    {
     "name": "stdout",
     "output_type": "stream",
     "text": [
      "KNN accuracy is  0.8791251964379256\n"
     ]
    },
    {
     "data": {
      "image/png": "[encoded data removed]",
      "text/plain": [
       "<Figure size 432x288 with 2 Axes>"
      ]
     },
     "metadata": {
      "needs_background": "light"
     },
     "output_type": "display_data"
    }
   ],
   "source": [
    "KNN=KNeighborsClassifier()\n",
    "\n",
    "# Train the model\n",
    "KNN.fit(X_train_fs, y_train_enc)\n",
    "\n",
    "# Get the accuracy score of the model\n",
    "KNN_score = KNN.score(X_test_fs, y_test_enc)\n",
    "print(\"KNN accuracy is \", KNN_score)\n",
    "\n",
    "# Plot the confusion matrix\n",
    "threshold = 0.2\n",
    "KNN_yhat= (KNN.predict_proba(X_test_fs)[:,1] >= threshold).astype(bool) \n",
    "# KNN_yhat= (KNN.predict_proba(X_test_fs)[:,1] >= 0.2).astype(bool) \n",
    "plot_confusion_matrix(y_test_enc,KNN_yhat)"
   ]
  },
  {
   "cell_type": "code",
   "execution_count": 37,
   "id": "60bc1ffc",
   "metadata": {},
   "outputs": [
    {
     "name": "stdout",
     "output_type": "stream",
     "text": [
      "Scoring based on tuned threshold\n",
      "--------------------------------------------------\n",
      "Accuracy score:          0.8366946045049765\n",
      "Balanced accuracy score: 0.4838106201982893\n",
      "F1 score:                0.026541764246682278\n",
      "--------------------------------------------------\n"
     ]
    }
   ],
   "source": [
    "from sklearn.metrics import accuracy_score, balanced_accuracy_score, f1_score\n",
    "\n",
    "print('Scoring based on tuned threshold')\n",
    "print('-'*50)\n",
    "print(f'Accuracy score:          {accuracy_score(y_test_enc, KNN_yhat > threshold)}')\n",
    "print(f'Balanced accuracy score: {balanced_accuracy_score(y_test_enc, KNN_yhat > threshold)}')\n",
    "print(f'F1 score:                {f1_score(y_test_enc, KNN_yhat > threshold)}')\n",
    "print('-'*50)"
   ]
  },
  {
   "cell_type": "markdown",
   "id": "cd773ed7",
   "metadata": {},
   "source": [
    "#### ROC CURVE FOR KNN MODEL"
   ]
  },
  {
   "cell_type": "code",
   "execution_count": 38,
   "id": "c63e8c56",
   "metadata": {},
   "outputs": [
    {
     "name": "stdout",
     "output_type": "stream",
     "text": [
      "KNN: ROC AUC=0.484\n"
     ]
    },
    {
     "data": {
      "image/png": "[encoded data removed]",
      "text/plain": [
       "<Figure size 432x288 with 1 Axes>"
      ]
     },
     "metadata": {
      "needs_background": "light"
     },
     "output_type": "display_data"
    }
   ],
   "source": [
    "from sklearn.metrics import roc_auc_score\n",
    "from sklearn.metrics import roc_curve\n",
    "# predict the probability\n",
    "KNN_probs = KNN.predict_proba(X_test_fs)\n",
    "# keep probabilities for the positive outcome only\n",
    "KNN_probs = KNN_probs[:, 1]\n",
    "# calculate scores\n",
    "KNN_auc = roc_auc_score(y_test_enc, KNN_probs)\n",
    "# summarize scores\n",
    "print('KNN: ROC AUC=%.3f' % (KNN_auc))\n",
    "# calculate roc scores\n",
    "KNN_fpr, KNN_tpr, thresholds = roc_curve(y_test_enc, KNN_probs)\n",
    "# plot the curve\n",
    "plt.plot(KNN_fpr, KNN_tpr, marker='.', label='KNN')\n",
    "# axis labels\n",
    "plt.xlabel('False Positive Rate')\n",
    "plt.ylabel('True Positive Rate')\n",
    "# show the legend\n",
    "plt.legend()\n",
    "# show the plot\n",
    "plt.show()"
   ]
  },
  {
   "cell_type": "markdown",
   "id": "d207e46a",
   "metadata": {},
   "source": [
    "### So the model with the best performance is the Logistic Regression Model"
   ]
  },
  {
   "cell_type": "code",
   "execution_count": 52,
   "id": "57ff45e1",
   "metadata": {},
   "outputs": [
    {
     "name": "stdout",
     "output_type": "stream",
     "text": [
      "Accuracy of Logistic Regression Model: 79.49188056574123%\n"
     ]
    }
   ],
   "source": [
    "accuracy = accuracy_score(y_test_enc, lr_yhat)\n",
    "print(f'Accuracy of Logistic Regression Model: {(accuracy*100)}%')"
   ]
  }
 ],
 "metadata": {
  "kernelspec": {
   "display_name": "Python 3 (ipykernel)",
   "language": "python",
   "name": "python3"
  },
  "language_info": {
   "codemirror_mode": {
    "name": "ipython",
    "version": 3
   },
   "file_extension": ".py",
   "mimetype": "text/x-python",
   "name": "python",
   "nbconvert_exporter": "python",
   "pygments_lexer": "ipython3",
   "version": "3.9.12"
  }
 },
 "nbformat": 4,
 "nbformat_minor": 5
}
